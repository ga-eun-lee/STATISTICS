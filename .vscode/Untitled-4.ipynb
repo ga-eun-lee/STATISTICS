{
 "cells": [
  {
   "cell_type": "code",
   "execution_count": 1,
   "metadata": {},
   "outputs": [],
   "source": [
    "from selenium import webdriver\n",
    "from selenium.webdriver.common.by import By\n",
    "from selenium.webdriver.chrome.service import Service\n",
    "from selenium.webdriver.chrome.options import Options\n",
    "from webdriver_manager.chrome import ChromeDriverManager\n",
    "from selenium.webdriver.support.ui import WebDriverWait\n",
    "from selenium.webdriver.support import expected_conditions as EC\n",
    "from openpyxl import Workbook\n",
    "import datetime\n",
    "import time\n",
    "import os\n"
   ]
  },
  {
   "cell_type": "code",
   "execution_count": 2,
   "metadata": {},
   "outputs": [],
   "source": [
    "# WebDriver 설정\n",
    "options = Options()\n",
    "options.add_argument(\"window-size=1920x1080\")\n",
    "options.add_argument(\"--disable-blink-features=AutomationControlled\")\n",
    "service = Service(ChromeDriverManager().install())\n",
    "driver = webdriver.Chrome(service=service, options=options)"
   ]
  },
  {
   "cell_type": "code",
   "execution_count": 3,
   "metadata": {},
   "outputs": [],
   "source": [
    "# 네이버플레이스 모바일 리뷰 URL\n",
    "driver.get(\"https://m.place.naver.com/restaurant/98516235/review/visitor?reviewSort=recent\")\n",
    "driver.implicitly_wait(10)\n"
   ]
  },
  {
   "cell_type": "code",
   "execution_count": 8,
   "metadata": {},
   "outputs": [],
   "source": [
    "# 엑셀 설정\n",
    "now = datetime.datetime.now()\n",
    "wb = Workbook()\n",
    "if 'Sheet' in wb.sheetnames:\n",
    "    del wb['Sheet']\n",
    "sheet = wb.create_sheet('output')\n",
    "sheet.append(['nickname', 'content', 'date', 'revisit', 'tags', 'review_cnt', 'url'])\n"
   ]
  },
  {
   "cell_type": "code",
   "execution_count": 10,
   "metadata": {},
   "outputs": [],
   "source": [
    "from selenium.webdriver.common.keys import Keys\n",
    "\n",
    "try:\n",
    "    for _ in range(30):  # 최대 30번 반복\n",
    "        try:\n",
    "            driver.find_element(By.TAG_NAME, 'body').send_keys(Keys.END)\n",
    "            time.sleep(1.5)\n",
    "\n",
    "            more_button = WebDriverWait(driver, 5).until(\n",
    "                EC.element_to_be_clickable((By.CSS_SELECTOR, 'a.fvwqf'))\n",
    "            )\n",
    "            driver.execute_script(\"arguments[0].click();\", more_button)\n",
    "            time.sleep(2)\n",
    "        except Exception as e:\n",
    "            print(\"📌 더보기 버튼 없음 or 클릭 실패:\", e)\n",
    "            break\n",
    "except Exception as e:\n",
    "    print(\"❌ 반복 중 오류:\", e)"
   ]
  },
  {
   "cell_type": "code",
   "execution_count": 11,
   "metadata": {},
   "outputs": [],
   "source": [
    "    # 모든 페이지가 로드되었으므로, 이제 리뷰 데이터와 태그를 수집\n",
    "    reviews = driver.find_elements(By.CSS_SELECTOR, 'li.pui__X35jYm.EjjAW')"
   ]
  },
  {
   "cell_type": "code",
   "execution_count": 49,
   "metadata": {},
   "outputs": [],
   "source": [
    "for r in reviews:\n",
    "        nickname = r.find_element(By.CSS_SELECTOR, 'span.pui__uslU0d').text.strip()\n",
    "        content = r.find_element(By.CSS_SELECTOR, 'div.pui__vn15t2').text.strip()\n",
    "        date = r.find_element(By.CSS_SELECTOR, 'span.pui__gfuUIT > time').text.strip()\n",
    "        revisit_elements = r.find_elements(By.CSS_SELECTOR, 'span.pui__gfuUIT')\n",
    "        revisit = revisit_elements[1].text.strip() if len(revisit_elements) > 1 else ''\n",
    "        review_cnt = r.find_element(By.CSS_SELECTOR, 'span.pui__WN-kAf').text.strip()\n",
    "        url = r.find_element(By.CSS_SELECTOR, 'a[href*=\"/my\"]').get_attribute('href')\n",
    "        # revisit \"번째 방문\" 문자 제거\n",
    "        if revisit:\n",
    "            revisit = int(revisit[:-5])\n",
    "        \n",
    "        # review_cnt \"리뷰 \" 문자 제거\n",
    "        if review_cnt:\n",
    "            review_cnt = int(review_cnt[3:])\n",
    "            # 태그 저장\n",
    "        i_tags = [tag.text.strip() for tag in r.find_elements(By.CSS_SELECTOR, 'div.pui__HLNvmI')]\n",
    "        i_tags = str(i_tags)\n",
    "        if \"+\" not in i_tags: # 태그 0개, 1개일 때\n",
    "            i_tag = [tag.text.strip() for tag in r.find_elements(By.CSS_SELECTOR, 'div.pui__HLNvmI')]\n",
    "        else: # 태그 2개 이상일 때\n",
    "            # 태그 더보기 버튼 누르기\n",
    "            tag_button = r.find_element(By.CSS_SELECTOR, 'a.pui__jhpEyP.pui__ggzZJ8')\n",
    "            driver.execute_script(\"arguments[0].click();\", tag_button)\n",
    "            time.sleep(1)\n",
    "            # 태그 여러 개 잘라서 리스트에 저장\n",
    "            i_tag = [tag.text.strip() for tag in r.find_elements(By.CSS_SELECTOR, 'div.pui__HLNvmI span.pui__jhpEyP')]\n",
    "            # 중복 없이 리뷰 데이터 저장\n",
    "        list_sheet.append([nickname, content, date, revisit, \", \".join(i_tag), review_cnt, url])\n",
    "        \n",
    "if 'driver' in locals():\n",
    "    driver.quit()\n",
    "\n",
    "\n",
    "\n",
    "        \n"
   ]
  },
  {
   "cell_type": "code",
   "execution_count": 50,
   "metadata": {},
   "outputs": [
    {
     "name": "stdout",
     "output_type": "stream",
     "text": [
      "naver_review_2025-05-17_20-45-59.xlsx\n"
     ]
    }
   ],
   "source": [
    "print(file_name)\n"
   ]
  }
 ],
 "metadata": {
  "kernelspec": {
   "display_name": "Python 3",
   "language": "python",
   "name": "python3"
  },
  "language_info": {
   "codemirror_mode": {
    "name": "ipython",
    "version": 3
   },
   "file_extension": ".py",
   "mimetype": "text/x-python",
   "name": "python",
   "nbconvert_exporter": "python",
   "pygments_lexer": "ipython3",
   "version": "3.13.2"
  }
 },
 "nbformat": 4,
 "nbformat_minor": 2
}
